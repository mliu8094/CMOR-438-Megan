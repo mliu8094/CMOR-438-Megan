{
 "cells": [
  {
   "cell_type": "markdown",
   "id": "df14510e",
   "metadata": {},
   "source": [
    "# DBSCAN\n",
    "\n",
    "The DBSCAN algorithm as described in the README.md file will also be used to categorize countries and their economic health along with their development, like k-means clustering. Again, I will use two socioeconomic metrics, GDP per capital and life expectancy. For the DBSCAN implementation, I will be using the DBSCAN algorithm in scikit-learn and analyze how these cluster compare to k-means clustering. We are able to tell what points this algorithm labels as outliers or noise."
   ]
  },
  {
   "cell_type": "code",
   "execution_count": 1,
   "id": "8760b032",
   "metadata": {},
   "outputs": [],
   "source": [
    "import pandas as pd\n",
    "import numpy as np\n",
    "import matplotlib.pyplot as plt"
   ]
  },
  {
   "cell_type": "code",
   "execution_count": 2,
   "id": "0998ba90",
   "metadata": {},
   "outputs": [],
   "source": [
    "#read csv file with all country transit and socioeconomic data\n",
    "df = pd.read_csv(\"Data/HDIData.csv\")"
   ]
  },
  {
   "cell_type": "code",
   "execution_count": 3,
   "id": "8c212184",
   "metadata": {},
   "outputs": [
    {
     "data": {
      "text/html": [
       "<div>\n",
       "<style scoped>\n",
       "    .dataframe tbody tr th:only-of-type {\n",
       "        vertical-align: middle;\n",
       "    }\n",
       "\n",
       "    .dataframe tbody tr th {\n",
       "        vertical-align: top;\n",
       "    }\n",
       "\n",
       "    .dataframe thead th {\n",
       "        text-align: right;\n",
       "    }\n",
       "</style>\n",
       "<table border=\"1\" class=\"dataframe\">\n",
       "  <thead>\n",
       "    <tr style=\"text-align: right;\">\n",
       "      <th></th>\n",
       "      <th>Time</th>\n",
       "      <th>Time Code</th>\n",
       "      <th>Series Name</th>\n",
       "      <th>Series Code</th>\n",
       "      <th>Argentina [ARG]</th>\n",
       "      <th>Australia [AUS]</th>\n",
       "      <th>Brazil [BRA]</th>\n",
       "      <th>China [CHN]</th>\n",
       "      <th>France [FRA]</th>\n",
       "      <th>Germany [DEU]</th>\n",
       "      <th>...</th>\n",
       "      <th>Uganda [UGA]</th>\n",
       "      <th>Ukraine [UKR]</th>\n",
       "      <th>United Arab Emirates [ARE]</th>\n",
       "      <th>Uruguay [URY]</th>\n",
       "      <th>Uzbekistan [UZB]</th>\n",
       "      <th>Vanuatu [VUT]</th>\n",
       "      <th>Viet Nam [VNM]</th>\n",
       "      <th>West Bank and Gaza [PSE]</th>\n",
       "      <th>Zambia [ZMB]</th>\n",
       "      <th>Zimbabwe [ZWE]</th>\n",
       "    </tr>\n",
       "  </thead>\n",
       "  <tbody>\n",
       "    <tr>\n",
       "      <th>1463</th>\n",
       "      <td>2019</td>\n",
       "      <td>YR2019</td>\n",
       "      <td>Unemployment, total (% of total labor force) (...</td>\n",
       "      <td>SL.UEM.TOTL.NE.ZS</td>\n",
       "      <td>9.843</td>\n",
       "      <td>5.143</td>\n",
       "      <td>11.936</td>\n",
       "      <td>5.15</td>\n",
       "      <td>8.415</td>\n",
       "      <td>3.163</td>\n",
       "      <td>...</td>\n",
       "      <td>2.563</td>\n",
       "      <td>8.194</td>\n",
       "      <td>2.331</td>\n",
       "      <td>8.836</td>\n",
       "      <td>8.98</td>\n",
       "      <td>5.445</td>\n",
       "      <td>1.681</td>\n",
       "      <td>25.34</td>\n",
       "      <td>5.538</td>\n",
       "      <td>7.373</td>\n",
       "    </tr>\n",
       "    <tr>\n",
       "      <th>763</th>\n",
       "      <td>2019</td>\n",
       "      <td>YR2019</td>\n",
       "      <td>Life expectancy at birth, female (years)</td>\n",
       "      <td>SP.DYN.LE00.FE.IN</td>\n",
       "      <td>79.439</td>\n",
       "      <td>85</td>\n",
       "      <td>79.023</td>\n",
       "      <td>80.747</td>\n",
       "      <td>85.9</td>\n",
       "      <td>83.7</td>\n",
       "      <td>...</td>\n",
       "      <td>69.13</td>\n",
       "      <td>78.73</td>\n",
       "      <td>84.047</td>\n",
       "      <td>81.293</td>\n",
       "      <td>75.374</td>\n",
       "      <td>73.292</td>\n",
       "      <td>78.972</td>\n",
       "      <td>78.092</td>\n",
       "      <td>65.44</td>\n",
       "      <td>63.049</td>\n",
       "    </tr>\n",
       "  </tbody>\n",
       "</table>\n",
       "<p>2 rows × 140 columns</p>\n",
       "</div>"
      ],
      "text/plain": [
       "      Time Time Code                                        Series Name  \\\n",
       "1463  2019    YR2019  Unemployment, total (% of total labor force) (...   \n",
       "763   2019    YR2019           Life expectancy at birth, female (years)   \n",
       "\n",
       "            Series Code Argentina [ARG] Australia [AUS] Brazil [BRA]  \\\n",
       "1463  SL.UEM.TOTL.NE.ZS           9.843           5.143       11.936   \n",
       "763   SP.DYN.LE00.FE.IN          79.439              85       79.023   \n",
       "\n",
       "     China [CHN] France [FRA] Germany [DEU]  ... Uganda [UGA] Ukraine [UKR]  \\\n",
       "1463        5.15        8.415         3.163  ...        2.563         8.194   \n",
       "763       80.747         85.9          83.7  ...        69.13         78.73   \n",
       "\n",
       "     United Arab Emirates [ARE] Uruguay [URY] Uzbekistan [UZB] Vanuatu [VUT]  \\\n",
       "1463                      2.331         8.836             8.98         5.445   \n",
       "763                      84.047        81.293           75.374        73.292   \n",
       "\n",
       "     Viet Nam [VNM] West Bank and Gaza [PSE] Zambia [ZMB] Zimbabwe [ZWE]  \n",
       "1463          1.681                    25.34        5.538          7.373  \n",
       "763          78.972                   78.092        65.44         63.049  \n",
       "\n",
       "[2 rows x 140 columns]"
      ]
     },
     "execution_count": 3,
     "metadata": {},
     "output_type": "execute_result"
    }
   ],
   "source": [
    "# clean up data file\n",
    "\n",
    "# isolate the following features:\n",
    "#\t\tUnemployment, total (% of total labor force)\n",
    "#\t\tLife expectancy at birth, female (years)\n",
    "\n",
    "row_ind = [1463, 763]\n",
    "col_filled = ~df.loc[row_ind].isin([\"..\"]).any() # only keep countries with nonempty rows\n",
    "\n",
    "fil_df = df.loc[row_ind, col_filled] # create new data table with isolated rows\n",
    "fil_df.head()"
   ]
  },
  {
   "cell_type": "code",
   "execution_count": 4,
   "id": "ee611074",
   "metadata": {},
   "outputs": [],
   "source": [
    "# transform data file and delete time/labels for correlations\n",
    "df_transposed = fil_df.T\n",
    "df_transposed.columns = df_transposed.iloc[2]\n",
    "df_kmeans = df_transposed.iloc[4:,:]\n",
    "df_kmeans = df_kmeans.astype(float)"
   ]
  },
  {
   "cell_type": "code",
   "execution_count": 5,
   "id": "2a020763",
   "metadata": {},
   "outputs": [
    {
     "data": {
      "image/png": "[encoded data removed]",
      "text/plain": [
       "<Figure size 640x480 with 1 Axes>"
      ]
     },
     "metadata": {},
     "output_type": "display_data"
    }
   ],
   "source": [
    "# graph relationship\n",
    "plt.figure()\n",
    "plt.scatter(df_kmeans.iloc[:, 0], df_kmeans.iloc[:, 1])\n",
    "plt.title ('Life Expectancy vs. Unemployment Rate')\n",
    "plt.xlabel ('Percent Unemployed')\n",
    "plt.ylabel ('Female Life Expectancy')\n",
    "plt.show ()"
   ]
  },
  {
   "cell_type": "code",
   "execution_count": 11,
   "id": "58518993",
   "metadata": {},
   "outputs": [],
   "source": [
    "from sklearn.cluster import DBSCAN\n",
    "from sklearn.preprocessing import StandardScaler\n",
    "from sklearn.metrics import silhouette_score"
   ]
  },
  {
   "cell_type": "code",
   "execution_count": 1,
   "id": "bc6c7a62",
   "metadata": {},
   "outputs": [
    {
     "ename": "NameError",
     "evalue": "name 'StandardScaler' is not defined",
     "output_type": "error",
     "traceback": [
      "\u001b[31m---------------------------------------------------------------------------\u001b[39m",
      "\u001b[31mNameError\u001b[39m                                 Traceback (most recent call last)",
      "\u001b[36mCell\u001b[39m\u001b[36m \u001b[39m\u001b[32mIn[1]\u001b[39m\u001b[32m, line 2\u001b[39m\n\u001b[32m      1\u001b[39m \u001b[38;5;28;01mfor\u001b[39;00m i \u001b[38;5;129;01min\u001b[39;00m \u001b[38;5;28mrange\u001b[39m(\u001b[32m4\u001b[39m, \u001b[32m8\u001b[39m):\n\u001b[32m----> \u001b[39m\u001b[32m2\u001b[39m \tscaler = \u001b[43mStandardScaler\u001b[49m()\n\u001b[32m      3\u001b[39m \tX_scaled = scaler.fit_transform(df_kmeans)\n\u001b[32m      5\u001b[39m \t\u001b[38;5;66;03m# apply DBSCAN\u001b[39;00m\n",
      "\u001b[31mNameError\u001b[39m: name 'StandardScaler' is not defined"
     ]
    }
   ],
   "source": [
    "for i in range(4, 8):\n",
    "\tscaler = StandardScaler()\n",
    "\tX_scaled = scaler.fit_transform(df_kmeans)\n",
    "\n",
    "\t# apply DBSCAN\n",
    "\tdbscan = DBSCAN(eps=0.3, min_samples=i)\n",
    "\tlabels = dbscan.fit_predict(X_scaled)\n",
    "\n",
    "\t# graph cluster\n",
    "\tplt.figure(figsize=(8, 5))\n",
    "\tplt.scatter(X_scaled[:, 0], X_scaled[:, 1], c=labels)\n",
    "\tplt.title(f\"DBSCAN Clustering: {i} min-point groups\")\n",
    "\tplt.xlabel(\"Percent Unemployed\")\n",
    "\tplt.ylabel(\"Female Life Expectancy\")\n",
    "\tplt.show()\n",
    "\t\n",
    "\t# print silhouette score\n",
    "\tfiltered_labels = labels[labels != -1]\n",
    "\tfiltered_X = X_scaled[labels != -1]\n",
    "\tscore = silhouette_score(filtered_X, filtered_labels)\n",
    "\tprint(f\"Silhouette Score (excluding noise): {score:.2f}\")\n",
    "\n",
    "\t# print number of clusters and noise points\n",
    "\tn_clusters = len(set(labels)) - (1 if -1 in labels else 0)\n",
    "\tn_noise = list(labels).count(-1)\n",
    "\n",
    "\tprint(f\"Estimated number of clusters: {n_clusters}\")\n",
    "\tprint(f\"Number of noise points: {n_noise}\")\n"
   ]
  },
  {
   "cell_type": "markdown",
   "id": "630978f3",
   "metadata": {},
   "source": [
    "### Conclusion\n",
    "\n",
    "Just like with k-means clustering, it is evident that the points on the life expectancy vs. umemployment rate scatter plot can be divided into various clusters with DBSCAN. Again, there is a group of points at the top left that signifies low unemployment and high life expectancy. However, DBSCAN tends to label the points in the lower right corner outliers rather than putting them into a cluster. As the minimum number of points in each cluster gets higher, a large fraction of the points on the plot are labeled outliers.\n",
    "\n",
    "The silhouette score of DBSCAN clustering with at least 6 points is about the same as 2 clusters with k-means clustering. Due to all the outliers and the mid-range silhouette score, it is further confirmed that this data set may not be that easily separable, or at least there are no distinct categories."
   ]
  }
 ],
 "metadata": {
  "kernelspec": {
   "display_name": "Python 3 (ipykernel)",
   "language": "python",
   "name": "python3"
  },
  "language_info": {
   "codemirror_mode": {
    "name": "ipython",
    "version": 3
   },
   "file_extension": ".py",
   "mimetype": "text/x-python",
   "name": "python",
   "nbconvert_exporter": "python",
   "pygments_lexer": "ipython3",
   "version": "3.12.1"
  }
 },
 "nbformat": 4,
 "nbformat_minor": 5
}
