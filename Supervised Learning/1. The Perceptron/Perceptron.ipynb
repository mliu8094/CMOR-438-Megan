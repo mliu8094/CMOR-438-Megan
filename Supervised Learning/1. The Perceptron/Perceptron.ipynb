{
 "cells": [
  {
   "cell_type": "markdown",
   "id": "4b94a290-d1a9-4a62-8001-02f533146e8f",
   "metadata": {},
   "source": [
    "# The Perceptron\n",
    "\n",
    "The perceptron model as described in the README.md file will be used to classify countries as transit-oriented(1) or non-transit-oriented(0). \n",
    "\n",
    "First, we need to determine how to quantify the label of transit-oriented. Based on the metrics that we have for each country, railway passengers carried, quality of railroad infrastructure, quality of air transport infrastructure, and quality of port infrastructure are positive indicators and will be weighted at 0.25, 0.2, 0.05, and 0.05 respectively. CO₂ emission from road transport per GDP, deaths by 2/3/4 wheeler users, air pollution, and mortality from road traffic are negative indicators weighted at 0.15, 0.1, 0.1, and 0.1 respectively. We also should normalize each value so that they are comparable on a 0 to 1 scale. As a result, we will use $$x_{\\text{norm}} = \\frac{x - x_{\\min}}{x_{\\max} - x_{\\min}}$$ for positive indicators and $$x_{\\text{norm}} = \\frac{x_{\\max}-x}{x_{\\max} - x_{\\min}}$$ for negative indicators. With these metrics, we then can obtain a transit index calculated by $$\\text{Transit Index} = \\sum (\\text{Normalized Positive Indicators} \\times \\text{Weight}) - \\sum (\\text{Normalized Negative Indicators} \\times \\text{Weight})$$ If the index is greater than 1, then we will refer to that country as transit-oriented. If it is less than or equal to 0, then we will refer to that country as not transit-oriented."
   ]
  },
  {
   "cell_type": "code",
   "execution_count": 21,
   "id": "c2f24253-1371-4a94-ad0d-9b6c62767d3a",
   "metadata": {},
   "outputs": [],
   "source": [
    "import numpy as np\n",
    "import matplotlib.pyplot as plt\n",
    "import pandas as pd\n",
    "import seaborn as sns\n",
    "from mlxtend.plotting import plot_decision_regions #for plotting boundaries"
   ]
  },
  {
   "cell_type": "code",
   "execution_count": null,
   "id": "b2318a76-b384-456a-b29a-203409102ba4",
   "metadata": {},
   "outputs": [],
   "source": []
  }
 ],
 "metadata": {
  "kernelspec": {
   "display_name": "Python 3 (ipykernel)",
   "language": "python",
   "name": "python3"
  },
  "language_info": {
   "codemirror_mode": {
    "name": "ipython",
    "version": 3
   },
   "file_extension": ".py",
   "mimetype": "text/x-python",
   "name": "python",
   "nbconvert_exporter": "python",
   "pygments_lexer": "ipython3",
   "version": "3.12.4"
  }
 },
 "nbformat": 4,
 "nbformat_minor": 5
}
